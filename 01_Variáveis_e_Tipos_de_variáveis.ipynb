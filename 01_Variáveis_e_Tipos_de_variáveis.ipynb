{
  "nbformat": 4,
  "nbformat_minor": 0,
  "metadata": {
    "colab": {
      "provenance": [],
      "include_colab_link": true
    },
    "kernelspec": {
      "name": "python3",
      "display_name": "Python 3"
    },
    "language_info": {
      "name": "python"
    }
  },
  "cells": [
    {
      "cell_type": "markdown",
      "metadata": {
        "id": "view-in-github",
        "colab_type": "text"
      },
      "source": [
        "<a href=\"https://colab.research.google.com/github/VendedeTudo/App/blob/main/01_Vari%C3%A1veis_e_Tipos_de_vari%C3%A1veis.ipynb\" target=\"_parent\"><img src=\"https://colab.research.google.com/assets/colab-badge.svg\" alt=\"Open In Colab\"/></a>"
      ]
    },
    {
      "cell_type": "markdown",
      "source": [
        "# Nomes das variáveis\n",
        "\n",
        "Obs.: Não pode iniciar com números, caracteres especiais e nem conter espaços em branco"
      ],
      "metadata": {
        "id": "B7efZHvk_q7P"
      }
    },
    {
      "cell_type": "code",
      "execution_count": null,
      "metadata": {
        "id": "4J5yRh-Up1qW"
      },
      "outputs": [],
      "source": [
        "nome_variavefsdfdsl = 'Caracteres'"
      ]
    },
    {
      "cell_type": "code",
      "source": [
        "print(nome_variavel)"
      ],
      "metadata": {
        "colab": {
          "base_uri": "https://localhost:8080/"
        },
        "id": "tRtbHDyq6X6B",
        "outputId": "d71077b6-dfc7-4e93-8c48-c4f78407cbb5"
      },
      "execution_count": null,
      "outputs": [
        {
          "output_type": "stream",
          "name": "stdout",
          "text": [
            "Caracteres\n"
          ]
        }
      ]
    },
    {
      "cell_type": "code",
      "source": [
        "nome = 'Silvio'\n",
        "print(nome)"
      ],
      "metadata": {
        "colab": {
          "base_uri": "https://localhost:8080/"
        },
        "id": "dgn6Vm58F8d8",
        "outputId": "44589950-e9e9-493f-e699-fab6e4afec01"
      },
      "execution_count": null,
      "outputs": [
        {
          "output_type": "stream",
          "name": "stdout",
          "text": [
            "Silvio\n"
          ]
        }
      ]
    },
    {
      "cell_type": "markdown",
      "source": [
        "# Variáveis numéricas"
      ],
      "metadata": {
        "id": "W_QmvGLvp8Me"
      }
    },
    {
      "cell_type": "code",
      "source": [
        "lucro = '100000'\n",
        "lucro = int(lucro)\n",
        "type(lucro)"
      ],
      "metadata": {
        "colab": {
          "base_uri": "https://localhost:8080/"
        },
        "id": "M-ktT6GkGEQy",
        "outputId": "41277e9b-943b-4919-fe6a-a5f0ce969d3a"
      },
      "execution_count": null,
      "outputs": [
        {
          "output_type": "execute_result",
          "data": {
            "text/plain": [
              "int"
            ]
          },
          "metadata": {},
          "execution_count": 15
        }
      ]
    },
    {
      "cell_type": "code",
      "source": [
        "print(2 * lucro)"
      ],
      "metadata": {
        "colab": {
          "base_uri": "https://localhost:8080/"
        },
        "id": "s3GWY6LIGr7F",
        "outputId": "770f3376-5b05-41fc-c7f0-6e8df9c3831d"
      },
      "execution_count": null,
      "outputs": [
        {
          "output_type": "stream",
          "name": "stdout",
          "text": [
            "100000100000\n"
          ]
        }
      ]
    },
    {
      "cell_type": "code",
      "source": [
        "var_numerica = 10\n",
        "var_numerica = int(var_numerica)\n",
        "type(var_numerica)\n",
        "# var_numerica"
      ],
      "metadata": {
        "colab": {
          "base_uri": "https://localhost:8080/"
        },
        "id": "Nc3r-stc_9sV",
        "outputId": "501a8c0a-cca3-48e5-a7d1-2b1a31853de3"
      },
      "execution_count": null,
      "outputs": [
        {
          "output_type": "execute_result",
          "data": {
            "text/plain": [
              "int"
            ]
          },
          "metadata": {},
          "execution_count": 1
        }
      ]
    },
    {
      "cell_type": "code",
      "source": [
        "var_numerica\n",
        "v_numerico = 10"
      ],
      "metadata": {
        "colab": {
          "base_uri": "https://localhost:8080/"
        },
        "id": "SYcmCpUHBGRp",
        "outputId": "daf1758a-fc25-4a45-9772-d720d273694c"
      },
      "execution_count": null,
      "outputs": [
        {
          "output_type": "execute_result",
          "data": {
            "text/plain": [
              "10"
            ]
          },
          "metadata": {},
          "execution_count": 2
        }
      ]
    },
    {
      "cell_type": "markdown",
      "source": [
        "# Variáveis Boolean"
      ],
      "metadata": {
        "id": "O-1JvmahD5IV"
      }
    },
    {
      "cell_type": "code",
      "source": [
        "var_bool = True\n",
        "type(var_bool)"
      ],
      "metadata": {
        "colab": {
          "base_uri": "https://localhost:8080/"
        },
        "id": "vOUk_wGlECXk",
        "outputId": "aa25427b-d8c5-4161-9784-5e6a8e52a1cc"
      },
      "execution_count": null,
      "outputs": [
        {
          "output_type": "execute_result",
          "data": {
            "text/plain": [
              "bool"
            ]
          },
          "metadata": {},
          "execution_count": 51
        }
      ]
    },
    {
      "cell_type": "code",
      "source": [
        "var_bool"
      ],
      "metadata": {
        "colab": {
          "base_uri": "https://localhost:8080/"
        },
        "id": "qYjaxeBEEGoE",
        "outputId": "f5e049f0-d25d-4df0-a9d1-5eb942b693d3"
      },
      "execution_count": null,
      "outputs": [
        {
          "output_type": "execute_result",
          "data": {
            "text/plain": [
              "True"
            ]
          },
          "metadata": {},
          "execution_count": 52
        }
      ]
    },
    {
      "cell_type": "markdown",
      "source": [
        "# Variáveis String\n",
        "\n",
        "São variáveis que armazenam cadeias de caracteres"
      ],
      "metadata": {
        "id": "PWGuPXJiEWFm"
      }
    },
    {
      "cell_type": "code",
      "source": [
        "var_string = 'Programa de pós-graduação em Ciências Contábeis'\n",
        "display(var_string)"
      ],
      "metadata": {
        "id": "jJu7_lfGEIf1",
        "colab": {
          "base_uri": "https://localhost:8080/",
          "height": 35
        },
        "outputId": "4bfb5c74-c53c-4f12-bd6c-13116db597f1"
      },
      "execution_count": null,
      "outputs": [
        {
          "output_type": "display_data",
          "data": {
            "text/plain": [
              "'Programa de pós-graduação em Ciências Contábeis'"
            ],
            "application/vnd.google.colaboratory.intrinsic+json": {
              "type": "string"
            }
          },
          "metadata": {}
        }
      ]
    },
    {
      "cell_type": "markdown",
      "source": [
        "## Quantidade de caracteres"
      ],
      "metadata": {
        "id": "i73JOrUMIXHm"
      }
    },
    {
      "cell_type": "code",
      "source": [
        "len(var_string)"
      ],
      "metadata": {
        "colab": {
          "base_uri": "https://localhost:8080/"
        },
        "id": "NachPwaEHOjl",
        "outputId": "40821c16-7a08-4c8e-a20a-b954f188534a"
      },
      "execution_count": null,
      "outputs": [
        {
          "output_type": "execute_result",
          "data": {
            "text/plain": [
              "47"
            ]
          },
          "metadata": {},
          "execution_count": 22
        }
      ]
    },
    {
      "cell_type": "markdown",
      "source": [
        "## Substring\n",
        "\n",
        "string[início:fim:passo]"
      ],
      "metadata": {
        "id": "gyW_Qj3EIfSF"
      }
    },
    {
      "cell_type": "code",
      "source": [
        "var_string[0:8]"
      ],
      "metadata": {
        "colab": {
          "base_uri": "https://localhost:8080/",
          "height": 35
        },
        "id": "6JL8J6DjHQC0",
        "outputId": "390ee745-5a3f-42e5-d48b-f67474b12a66"
      },
      "execution_count": null,
      "outputs": [
        {
          "output_type": "execute_result",
          "data": {
            "text/plain": [
              "'Programa'"
            ],
            "application/vnd.google.colaboratory.intrinsic+json": {
              "type": "string"
            }
          },
          "metadata": {},
          "execution_count": 31
        }
      ]
    },
    {
      "cell_type": "code",
      "source": [
        "var_numeros = '0123456789'\n",
        "var_numeros[0::2]"
      ],
      "metadata": {
        "colab": {
          "base_uri": "https://localhost:8080/",
          "height": 35
        },
        "id": "YOjzupdqJGVO",
        "outputId": "d8c86e7a-ff5b-4868-e4c0-38f3895e9f78"
      },
      "execution_count": null,
      "outputs": [
        {
          "output_type": "execute_result",
          "data": {
            "text/plain": [
              "'02468'"
            ],
            "application/vnd.google.colaboratory.intrinsic+json": {
              "type": "string"
            }
          },
          "metadata": {},
          "execution_count": 32
        }
      ]
    },
    {
      "cell_type": "markdown",
      "source": [
        "## Separação de String"
      ],
      "metadata": {
        "id": "9fGtNNu2Mn-9"
      }
    },
    {
      "cell_type": "code",
      "source": [
        "lista_palavra = var_string.split(' ')\n",
        "lista_palavra"
      ],
      "metadata": {
        "colab": {
          "base_uri": "https://localhost:8080/"
        },
        "id": "m1EpXtOdHR1k",
        "outputId": "61120a1d-f3e2-4a06-d44f-0cd00942dd3a"
      },
      "execution_count": null,
      "outputs": [
        {
          "output_type": "execute_result",
          "data": {
            "text/plain": [
              "['Programa', 'de', 'pós-graduação', 'em', 'Ciências', 'Contábeis']"
            ]
          },
          "metadata": {},
          "execution_count": 35
        }
      ]
    },
    {
      "cell_type": "code",
      "source": [
        "len(lista_palavra)"
      ],
      "metadata": {
        "colab": {
          "base_uri": "https://localhost:8080/"
        },
        "id": "5EcjQavT-fjB",
        "outputId": "7f6ef3c1-40da-4387-93ab-b31590e062f4"
      },
      "execution_count": null,
      "outputs": [
        {
          "output_type": "execute_result",
          "data": {
            "text/plain": [
              "6"
            ]
          },
          "metadata": {},
          "execution_count": 53
        }
      ]
    },
    {
      "cell_type": "markdown",
      "source": [
        "## Métodos Lower(), Upper(), Capitalize() e Title()"
      ],
      "metadata": {
        "id": "-u_Ku-6DNKK9"
      }
    },
    {
      "cell_type": "code",
      "source": [
        "var_string.lower()"
      ],
      "metadata": {
        "colab": {
          "base_uri": "https://localhost:8080/",
          "height": 35
        },
        "id": "aFYOC0FJHYkU",
        "outputId": "a3f8722c-bc7c-49e4-8f9b-ef62e15e8414"
      },
      "execution_count": null,
      "outputs": [
        {
          "output_type": "execute_result",
          "data": {
            "text/plain": [
              "'programa de pós-graduação em ciências contábeis'"
            ],
            "application/vnd.google.colaboratory.intrinsic+json": {
              "type": "string"
            }
          },
          "metadata": {},
          "execution_count": 61
        }
      ]
    },
    {
      "cell_type": "code",
      "source": [
        "var_string.upper()"
      ],
      "metadata": {
        "colab": {
          "base_uri": "https://localhost:8080/",
          "height": 35
        },
        "id": "nTwPxBQtHdkT",
        "outputId": "46ea9a01-6f16-47e4-a704-5786d70cc144"
      },
      "execution_count": null,
      "outputs": [
        {
          "output_type": "execute_result",
          "data": {
            "text/plain": [
              "'PROGRAMA DE PÓS-GRADUAÇÃO EM CIÊNCIAS CONTÁBEIS'"
            ],
            "application/vnd.google.colaboratory.intrinsic+json": {
              "type": "string"
            }
          },
          "metadata": {},
          "execution_count": 62
        }
      ]
    },
    {
      "cell_type": "code",
      "source": [
        "var_string.capitalize()"
      ],
      "metadata": {
        "colab": {
          "base_uri": "https://localhost:8080/",
          "height": 35
        },
        "id": "IDuKhsorIFKl",
        "outputId": "dce18555-dc38-4738-91c3-ac269ff8d3f1"
      },
      "execution_count": null,
      "outputs": [
        {
          "output_type": "execute_result",
          "data": {
            "text/plain": [
              "'Programa de pós-graduação em ciências contábeis'"
            ],
            "application/vnd.google.colaboratory.intrinsic+json": {
              "type": "string"
            }
          },
          "metadata": {},
          "execution_count": 65
        }
      ]
    },
    {
      "cell_type": "code",
      "source": [
        "var_string.title()"
      ],
      "metadata": {
        "colab": {
          "base_uri": "https://localhost:8080/",
          "height": 35
        },
        "id": "5CaUkiGDH59k",
        "outputId": "752a2c0c-faef-4082-d3d9-76d927b77ad9"
      },
      "execution_count": null,
      "outputs": [
        {
          "output_type": "execute_result",
          "data": {
            "text/plain": [
              "'Programa De Pós-Graduação Em Ciências Contábeis'"
            ],
            "application/vnd.google.colaboratory.intrinsic+json": {
              "type": "string"
            }
          },
          "metadata": {},
          "execution_count": 66
        }
      ]
    },
    {
      "cell_type": "markdown",
      "source": [
        "## Substituição de strings"
      ],
      "metadata": {
        "id": "_DNMzjp6Nrg9"
      }
    },
    {
      "cell_type": "code",
      "source": [
        "var_string.replace('Ciências Contábeis','Informática')"
      ],
      "metadata": {
        "colab": {
          "base_uri": "https://localhost:8080/",
          "height": 35
        },
        "id": "gJTFyCi3HlmD",
        "outputId": "48a80c50-5dce-49b5-d865-f6eea8418870"
      },
      "execution_count": null,
      "outputs": [
        {
          "output_type": "execute_result",
          "data": {
            "text/plain": [
              "'Programa de pós-graduação em Informática'"
            ],
            "application/vnd.google.colaboratory.intrinsic+json": {
              "type": "string"
            }
          },
          "metadata": {},
          "execution_count": 38
        }
      ]
    },
    {
      "cell_type": "markdown",
      "source": [
        "## Busta de String"
      ],
      "metadata": {
        "id": "7GPYI6PMNzyt"
      }
    },
    {
      "cell_type": "code",
      "source": [
        "var_string.find('Contábeis')"
      ],
      "metadata": {
        "colab": {
          "base_uri": "https://localhost:8080/"
        },
        "id": "4woWXgiAIS4E",
        "outputId": "9e12656e-3c87-4c84-dfea-eac808916ae6"
      },
      "execution_count": null,
      "outputs": [
        {
          "output_type": "execute_result",
          "data": {
            "text/plain": [
              "38"
            ]
          },
          "metadata": {},
          "execution_count": 58
        }
      ]
    },
    {
      "cell_type": "code",
      "source": [
        "var_string[38]"
      ],
      "metadata": {
        "colab": {
          "base_uri": "https://localhost:8080/",
          "height": 35
        },
        "id": "8iUEADJpN4p6",
        "outputId": "3b3d65c4-31f7-4ead-f366-d33a575f55ae"
      },
      "execution_count": null,
      "outputs": [
        {
          "output_type": "execute_result",
          "data": {
            "text/plain": [
              "'C'"
            ],
            "application/vnd.google.colaboratory.intrinsic+json": {
              "type": "string"
            }
          },
          "metadata": {},
          "execution_count": 90
        }
      ]
    },
    {
      "cell_type": "code",
      "source": [
        "str.find('Procurar valores em lista de caracteres','valores')"
      ],
      "metadata": {
        "colab": {
          "base_uri": "https://localhost:8080/"
        },
        "id": "h8baGt_jN7C0",
        "outputId": "85095989-a07d-48e0-87ef-70b6972f04e9"
      },
      "execution_count": null,
      "outputs": [
        {
          "output_type": "execute_result",
          "data": {
            "text/plain": [
              "9"
            ]
          },
          "metadata": {},
          "execution_count": 86
        }
      ]
    },
    {
      "cell_type": "markdown",
      "source": [
        "## Interpolação"
      ],
      "metadata": {
        "id": "cJjqjL7EO78l"
      }
    },
    {
      "cell_type": "code",
      "source": [
        "x = 'do resultado'\n",
        "print('Valor %s' % x)"
      ],
      "metadata": {
        "colab": {
          "base_uri": "https://localhost:8080/"
        },
        "id": "G6gEhKp1OLKE",
        "outputId": "fe82d4da-8571-4eca-f8f6-3c2410e7d82d"
      },
      "execution_count": null,
      "outputs": [
        {
          "output_type": "stream",
          "name": "stdout",
          "text": [
            "Valor do resultado\n"
          ]
        }
      ]
    },
    {
      "cell_type": "code",
      "source": [
        "numero = 10\n",
        "print('Valor %d' % numero)\n",
        "print('Valor %f' % numero)"
      ],
      "metadata": {
        "colab": {
          "base_uri": "https://localhost:8080/"
        },
        "id": "3pWTHCeLPPzZ",
        "outputId": "5c946312-4f78-4a3e-b8aa-32a4bacc40f1"
      },
      "execution_count": null,
      "outputs": [
        {
          "output_type": "stream",
          "name": "stdout",
          "text": [
            "Valor 10\n",
            "Valor 10.000000\n"
          ]
        }
      ]
    },
    {
      "cell_type": "code",
      "source": [
        "print(f\"Valor {x}\")"
      ],
      "metadata": {
        "colab": {
          "base_uri": "https://localhost:8080/"
        },
        "id": "dxJuCpqqSe8j",
        "outputId": "bfc6e6ef-7636-4edb-83fd-f05e2ae68481"
      },
      "execution_count": null,
      "outputs": [
        {
          "output_type": "stream",
          "name": "stdout",
          "text": [
            "Valor do resultado\n"
          ]
        }
      ]
    },
    {
      "cell_type": "code",
      "source": [
        "nova_variavel = 'Tipos de variáveis'\n",
        "\n",
        "print(f'Novos {nova_variavel}')"
      ],
      "metadata": {
        "colab": {
          "base_uri": "https://localhost:8080/"
        },
        "id": "uTahqto_KmWv",
        "outputId": "0aad2d0a-5d4a-4fa1-9ca4-f52bfc1bc7c2"
      },
      "execution_count": null,
      "outputs": [
        {
          "output_type": "stream",
          "name": "stdout",
          "text": [
            "Novos Tipos de variáveis\n"
          ]
        }
      ]
    },
    {
      "cell_type": "code",
      "source": [
        "novos = 'Novos'\n",
        "\n",
        "print(novos+' '+nova_variavel)"
      ],
      "metadata": {
        "colab": {
          "base_uri": "https://localhost:8080/"
        },
        "id": "YuwbF93tK6rj",
        "outputId": "ac926524-1c52-4f84-fd62-0a50748ce4e1"
      },
      "execution_count": null,
      "outputs": [
        {
          "output_type": "stream",
          "name": "stdout",
          "text": [
            "Novos Tipos de variáveis\n"
          ]
        }
      ]
    },
    {
      "cell_type": "code",
      "source": [
        "print('Valor {0}'.format('do Resultado'))\n",
        "print('Valor {0} {1} {2}'.format('do Resultado','com dois parâmetros', ''))"
      ],
      "metadata": {
        "colab": {
          "base_uri": "https://localhost:8080/"
        },
        "id": "jriMMA0bhgNL",
        "outputId": "cfe3c385-ca47-4900-ebca-bd5eb0beb11c"
      },
      "execution_count": null,
      "outputs": [
        {
          "output_type": "stream",
          "name": "stdout",
          "text": [
            "Valor do Resultado\n",
            "Valor do Resultado com dois parâmetros\n"
          ]
        }
      ]
    },
    {
      "cell_type": "markdown",
      "source": [
        "# Exemplos"
      ],
      "metadata": {
        "id": "7uHeneTNily2"
      }
    },
    {
      "cell_type": "markdown",
      "source": [
        "1.  Faça um programa que peça dois número inteiros. Imprima a soma desses dois números na tela."
      ],
      "metadata": {
        "id": "Gq7qXphiIrM4"
      }
    },
    {
      "cell_type": "code",
      "source": [
        "# Entrada\n",
        "primeiro_numero = input('Entre com o primeiro número: ')\n",
        "segundo_numero = input('Entre com o segundo número: ')\n",
        "\n",
        "# Processamento\n",
        "soma = int(primeiro_numero) + int(segundo_numero)\n",
        "\n",
        "# Saída\n",
        "print(soma)"
      ],
      "metadata": {
        "id": "mAdtf3ELIv6w",
        "colab": {
          "base_uri": "https://localhost:8080/"
        },
        "outputId": "6fe1aca0-e751-4470-8135-2edc064f641b"
      },
      "execution_count": null,
      "outputs": [
        {
          "output_type": "stream",
          "name": "stdout",
          "text": [
            "Entre com o primeiro número: 30\n",
            "Entre com o segundo número: 20\n",
            "50\n"
          ]
        }
      ]
    },
    {
      "cell_type": "markdown",
      "source": [
        "2. Faça um programa que solicite o preço de uma mercadoria e o percentual de desconto. Exita o valor do desconto e o preço a pagar."
      ],
      "metadata": {
        "id": "Y2xkpmo2JRbB"
      }
    },
    {
      "cell_type": "code",
      "source": [
        "preco = int(input('Preço da mercadoria:'))\n",
        "percentual = int(input('Percentual de desconto:'))\n",
        "\n",
        "valor_desconto = preco * (percentual/100)\n",
        "preco_a_pagar = preco - valor_desconto\n",
        "\n",
        "print(f'Valor do desconto: {valor_desconto}, preço a pagar: {preco_a_pagar}')"
      ],
      "metadata": {
        "id": "eKJzU9cjJbSf",
        "colab": {
          "base_uri": "https://localhost:8080/"
        },
        "outputId": "8cba4297-6d85-4d9c-f460-d56eae45e04f"
      },
      "execution_count": null,
      "outputs": [
        {
          "output_type": "stream",
          "name": "stdout",
          "text": [
            "Preço da mercadoria:1000\n",
            "Percentual de desconto:25\n",
            "Valor do desconto: 250.0, preço a pagar: 750.0\n"
          ]
        }
      ]
    },
    {
      "cell_type": "markdown",
      "source": [
        "# Exercícios"
      ],
      "metadata": {
        "id": "_ysMmlctKdoB"
      }
    },
    {
      "cell_type": "markdown",
      "source": [
        "1.  Elabore um programa que calcule o valor total de um veículo cujo pagamento é composto por um valor de entrada e 60 parcelas mensais."
      ],
      "metadata": {
        "id": "5u6Rot_wKggs"
      }
    },
    {
      "cell_type": "code",
      "source": [
        "# Entrada\n",
        "str_entrada = 'Valor de entrada: '\n",
        "valor_entrada = input()\n",
        "entrada = int()\n",
        "parcela = int(input('Valor das parcelas: '))\n",
        "\n",
        "# P\n",
        "valor_total = entrada + 60 * parcela\n",
        "\n",
        "# F\n",
        "print(f'Valor total do veículo: {valor_total}')"
      ],
      "metadata": {
        "id": "c7ut0UDy4A5M",
        "colab": {
          "base_uri": "https://localhost:8080/",
          "height": 270
        },
        "outputId": "963a35e4-1ebb-44bf-a37f-cdbc4359f9c8"
      },
      "execution_count": null,
      "outputs": [
        {
          "name": "stdout",
          "output_type": "stream",
          "text": [
            "1000\n",
            "Valor das parcelas: 8789\n"
          ]
        },
        {
          "output_type": "error",
          "ename": "NameError",
          "evalue": "ignored",
          "traceback": [
            "\u001b[0;31m---------------------------------------------------------------------------\u001b[0m",
            "\u001b[0;31mNameError\u001b[0m                                 Traceback (most recent call last)",
            "\u001b[0;32m<ipython-input-5-9b4044fac245>\u001b[0m in \u001b[0;36m<module>\u001b[0;34m()\u001b[0m\n\u001b[1;32m      6\u001b[0m \u001b[0;34m\u001b[0m\u001b[0m\n\u001b[1;32m      7\u001b[0m \u001b[0;31m# P\u001b[0m\u001b[0;34m\u001b[0m\u001b[0;34m\u001b[0m\u001b[0;34m\u001b[0m\u001b[0m\n\u001b[0;32m----> 8\u001b[0;31m \u001b[0mvalor_total\u001b[0m \u001b[0;34m=\u001b[0m \u001b[0me\u001b[0m \u001b[0;34m+\u001b[0m \u001b[0;36m60\u001b[0m \u001b[0;34m*\u001b[0m \u001b[0mparcela\u001b[0m\u001b[0;34m\u001b[0m\u001b[0;34m\u001b[0m\u001b[0m\n\u001b[0m\u001b[1;32m      9\u001b[0m \u001b[0;34m\u001b[0m\u001b[0m\n\u001b[1;32m     10\u001b[0m \u001b[0;31m# F\u001b[0m\u001b[0;34m\u001b[0m\u001b[0;34m\u001b[0m\u001b[0;34m\u001b[0m\u001b[0m\n",
            "\u001b[0;31mNameError\u001b[0m: name 'e' is not defined"
          ]
        }
      ]
    },
    {
      "cell_type": "code",
      "source": [
        "entrada"
      ],
      "metadata": {
        "colab": {
          "base_uri": "https://localhost:8080/"
        },
        "id": "hF3l2BobFX9n",
        "outputId": "b44741e6-9425-4394-9f41-efcc960d879d"
      },
      "execution_count": null,
      "outputs": [
        {
          "output_type": "execute_result",
          "data": {
            "text/plain": [
              "20000"
            ]
          },
          "metadata": {},
          "execution_count": 4
        }
      ]
    },
    {
      "cell_type": "markdown",
      "source": [
        "2.  Humberto é dono de um escritório contábil,\n",
        "que faz diversos serviços na área. Em um mês,\n",
        "ele recebeu o valor de R$20.000,00, pelos\n",
        "serviços prestados.\n",
        "\n",
        "Considerando que Humberto apresenta diversas\n",
        "despesas mensais, quanto restou após\n",
        "pagamento das despesas?\n",
        "\n",
        "![image.png](data:image/png;base64,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)"
      ],
      "metadata": {
        "id": "2DaBPmgGMeyB"
      }
    },
    {
      "cell_type": "code",
      "source": [
        "receita = int(input('Receita: '))\n",
        "aluguel = int(input('Aluguel: '))\n",
        "material_escritorio = int(input('Material de escritório: '))\n",
        "luz = int(input('Luz: '))\n",
        "agua = int(input('Água: '))\n",
        "salario = int(input('Salário: '))\n",
        "\n",
        "resultado = receita - (aluguel + material_escritorio + luz + agua + salario)\n",
        "print(f'Resultado após das despesas: {resultado}')"
      ],
      "metadata": {
        "id": "TwhcU8o7L14P"
      },
      "execution_count": null,
      "outputs": []
    },
    {
      "cell_type": "markdown",
      "source": [
        "3.  Júlia recebe um salário de 2.500,00 por\n",
        "mês, no qual 1.500,00 ela usa para pagar\n",
        "suas despesas. Com o restante, ela destina 30%\n",
        "para uma conta poupança e o restante ela usa\n",
        "para seu lazer. Qual o valor destinado para a\n",
        "conta poupança e qual o valor destinado para\n",
        "lazer, respectivamente?"
      ],
      "metadata": {
        "id": "m09eUPNVN94K"
      }
    },
    {
      "cell_type": "code",
      "source": [
        "salario = int(input('Salário: '))\n",
        "despesas = int(input('Despesas: '))\n",
        "\n",
        "saldo = salario - despesas\n",
        "\n",
        "poupanca = saldo * (0.30)\n",
        "\n",
        "lazer = saldo - poupanca\n",
        "\n",
        "print('{poupanca}')\n",
        "print(lazer)"
      ],
      "metadata": {
        "id": "DOGyJ7bMNcYd",
        "colab": {
          "base_uri": "https://localhost:8080/"
        },
        "outputId": "d802ef19-25e0-4d37-be93-b8b779740f9e"
      },
      "execution_count": null,
      "outputs": [
        {
          "output_type": "stream",
          "name": "stdout",
          "text": [
            "Salário: 1000\n",
            "Despesas: 800\n",
            "60.0\n",
            "140.0\n"
          ]
        }
      ]
    },
    {
      "cell_type": "code",
      "source": [],
      "metadata": {
        "id": "VFfvo-yrtMTq"
      },
      "execution_count": null,
      "outputs": []
    }
  ]
}