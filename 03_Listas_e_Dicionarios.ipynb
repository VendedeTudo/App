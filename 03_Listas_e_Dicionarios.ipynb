{
  "nbformat": 4,
  "nbformat_minor": 0,
  "metadata": {
    "colab": {
      "provenance": [],
      "include_colab_link": true
    },
    "kernelspec": {
      "name": "python3",
      "display_name": "Python 3"
    },
    "language_info": {
      "name": "python"
    }
  },
  "cells": [
    {
      "cell_type": "markdown",
      "metadata": {
        "id": "view-in-github",
        "colab_type": "text"
      },
      "source": [
        "<a href=\"https://colab.research.google.com/github/VendedeTudo/App/blob/main/03_Listas_e_Dicionarios.ipynb\" target=\"_parent\"><img src=\"https://colab.research.google.com/assets/colab-badge.svg\" alt=\"Open In Colab\"/></a>"
      ]
    },
    {
      "cell_type": "markdown",
      "source": [
        "# Listas\n",
        "\n",
        "  variavel_lista = []"
      ],
      "metadata": {
        "id": "z1oacYhhFjWo"
      }
    },
    {
      "cell_type": "code",
      "execution_count": null,
      "metadata": {
        "id": "-7PLWHkoFfka",
        "colab": {
          "base_uri": "https://localhost:8080/"
        },
        "outputId": "c057c580-1bd2-4845-b47f-11dc73251070"
      },
      "outputs": [
        {
          "output_type": "stream",
          "name": "stdout",
          "text": [
            "[30, 10, 10, 5, 15, 20]\n"
          ]
        }
      ],
      "source": [
        "lista_numeros = [30,10,10,5,15,20]\n",
        "\n",
        "print(lista_numeros)"
      ]
    },
    {
      "cell_type": "code",
      "source": [
        "lista_numeros[4]"
      ],
      "metadata": {
        "colab": {
          "base_uri": "https://localhost:8080/"
        },
        "id": "FwZs4uBkR5k-",
        "outputId": "d88198c1-f5f6-4e6c-be11-51a6b27d5936"
      },
      "execution_count": null,
      "outputs": [
        {
          "output_type": "execute_result",
          "data": {
            "text/plain": [
              "15"
            ]
          },
          "metadata": {},
          "execution_count": 7
        }
      ]
    },
    {
      "cell_type": "markdown",
      "source": [
        "## Funções\n",
        "\n",
        "* sort - ordenar os itens da lista\n",
        "* count - retorna quantas vezes o item passado no parâmetro repete\n",
        "* append - adiciona item no final da lista\n",
        "* pop - remove item conforme o index passado no parâmetro\n",
        "* remove - remove item da lista passando o valor\n",
        "* extend - adiciona um lista no final da lista existente\n",
        "* reverse - alter a ordem na lista\n",
        "* clear - remove todos os itens da lista"
      ],
      "metadata": {
        "id": "UpLH5z8YGjup"
      }
    },
    {
      "cell_type": "code",
      "source": [
        "lista_numeros.sort()\n",
        "lista_numeros"
      ],
      "metadata": {
        "id": "nvrz8MzOGMF1",
        "colab": {
          "base_uri": "https://localhost:8080/"
        },
        "outputId": "d46b1e17-fc54-4898-8053-a84e278c5a3c"
      },
      "execution_count": null,
      "outputs": [
        {
          "output_type": "execute_result",
          "data": {
            "text/plain": [
              "[5, 10, 10, 15, 20, 30]"
            ]
          },
          "metadata": {},
          "execution_count": 8
        }
      ]
    },
    {
      "cell_type": "code",
      "source": [
        "lista_numeros.count(10)"
      ],
      "metadata": {
        "id": "oedG3YwvGTNa",
        "colab": {
          "base_uri": "https://localhost:8080/"
        },
        "outputId": "1d4bb044-110c-4f85-fde3-a19834899a92"
      },
      "execution_count": null,
      "outputs": [
        {
          "output_type": "execute_result",
          "data": {
            "text/plain": [
              "2"
            ]
          },
          "metadata": {},
          "execution_count": 9
        }
      ]
    },
    {
      "cell_type": "code",
      "source": [
        "len(lista_numeros)"
      ],
      "metadata": {
        "colab": {
          "base_uri": "https://localhost:8080/"
        },
        "id": "zap3CbjES1UU",
        "outputId": "6cfe8b63-bcf3-4569-d229-4797fba22eb2"
      },
      "execution_count": null,
      "outputs": [
        {
          "output_type": "execute_result",
          "data": {
            "text/plain": [
              "6"
            ]
          },
          "metadata": {},
          "execution_count": 10
        }
      ]
    },
    {
      "cell_type": "code",
      "source": [
        "lista_numeros.append(40)\n",
        "lista_numeros"
      ],
      "metadata": {
        "id": "IX_Zn_62Gegz",
        "colab": {
          "base_uri": "https://localhost:8080/"
        },
        "outputId": "83993213-3c05-44a9-89c3-760fd2e7a736"
      },
      "execution_count": null,
      "outputs": [
        {
          "output_type": "execute_result",
          "data": {
            "text/plain": [
              "[5, 10, 10, 15, 20, 30, 40]"
            ]
          },
          "metadata": {},
          "execution_count": 11
        }
      ]
    },
    {
      "cell_type": "code",
      "source": [
        "lista_numeros.pop(0)\n",
        "lista_numeros"
      ],
      "metadata": {
        "id": "Lw8yQ4b-GxJi",
        "colab": {
          "base_uri": "https://localhost:8080/"
        },
        "outputId": "2fb6a7d8-ed52-4744-9a6b-c7f1775cd2e8"
      },
      "execution_count": null,
      "outputs": [
        {
          "output_type": "execute_result",
          "data": {
            "text/plain": [
              "[10, 10, 15, 20, 30, 40]"
            ]
          },
          "metadata": {},
          "execution_count": 12
        }
      ]
    },
    {
      "cell_type": "code",
      "source": [
        "lista_numeros.remove(30)\n",
        "lista_numeros"
      ],
      "metadata": {
        "id": "cUp-zPeJHMk0",
        "colab": {
          "base_uri": "https://localhost:8080/"
        },
        "outputId": "fc9cb90a-6bdb-4b23-b716-e5c53b5adba3"
      },
      "execution_count": null,
      "outputs": [
        {
          "output_type": "execute_result",
          "data": {
            "text/plain": [
              "[10, 10, 15, 20, 40]"
            ]
          },
          "metadata": {},
          "execution_count": 13
        }
      ]
    },
    {
      "cell_type": "code",
      "source": [
        "lista_numeros.extend([3,1,0,5,2])\n",
        "lista_numeros"
      ],
      "metadata": {
        "id": "Gi6nC9uNHo9x",
        "colab": {
          "base_uri": "https://localhost:8080/"
        },
        "outputId": "f5c8a905-3e95-432f-b674-374ee0e06b5b"
      },
      "execution_count": null,
      "outputs": [
        {
          "output_type": "execute_result",
          "data": {
            "text/plain": [
              "[10, 10, 15, 20, 40, 3, 1, 0, 5, 2]"
            ]
          },
          "metadata": {},
          "execution_count": 14
        }
      ]
    },
    {
      "cell_type": "code",
      "source": [
        "lista_numeros.reverse()\n",
        "lista_numeros"
      ],
      "metadata": {
        "id": "xecem5BDH9O6",
        "colab": {
          "base_uri": "https://localhost:8080/"
        },
        "outputId": "ab66ce3e-4756-4eef-b13d-836c13f8a72d"
      },
      "execution_count": null,
      "outputs": [
        {
          "output_type": "execute_result",
          "data": {
            "text/plain": [
              "[2, 5, 0, 1, 3, 40, 20, 15, 10, 10]"
            ]
          },
          "metadata": {},
          "execution_count": 15
        }
      ]
    },
    {
      "cell_type": "code",
      "source": [
        "lista_numeros.clear()\n",
        "lista_numeros\n",
        "type(lista_numeros)"
      ],
      "metadata": {
        "id": "4ipRnGm0IJC4",
        "colab": {
          "base_uri": "https://localhost:8080/"
        },
        "outputId": "20f6f952-097c-497f-9b1b-f82235746a3f"
      },
      "execution_count": null,
      "outputs": [
        {
          "output_type": "execute_result",
          "data": {
            "text/plain": [
              "list"
            ]
          },
          "metadata": {},
          "execution_count": 21
        }
      ]
    },
    {
      "cell_type": "markdown",
      "source": [
        "# Dicionários\n",
        "\n",
        "variavel_dicionario = {chave:valor}"
      ],
      "metadata": {
        "id": "qEzFKSuvP2VH"
      }
    },
    {
      "cell_type": "code",
      "source": [
        "pessoa = {\n",
        "    'nome':'silvio',\n",
        "    'idade':40,\n",
        "    'telefone':9888432,\n",
        "    'endereco':''\n",
        "}\n",
        "pessoa['idade']"
      ],
      "metadata": {
        "colab": {
          "base_uri": "https://localhost:8080/"
        },
        "id": "sPfyXmYJUDQ1",
        "outputId": "2530d996-705c-4e48-ee80-e1ec1ecdad68"
      },
      "execution_count": null,
      "outputs": [
        {
          "output_type": "execute_result",
          "data": {
            "text/plain": [
              "40"
            ]
          },
          "metadata": {},
          "execution_count": 19
        }
      ]
    },
    {
      "cell_type": "code",
      "source": [
        "produto = {'nome':'monitor',\n",
        "           'valor':1200.00,\n",
        "           'cor':'preto',\n",
        "           'descrição':'29 polegadas'}\n",
        "produto['nome']"
      ],
      "metadata": {
        "id": "jdfk1McRP1R6",
        "colab": {
          "base_uri": "https://localhost:8080/",
          "height": 35
        },
        "outputId": "90f0360c-558f-4e76-df99-b14b2f5dc6d5"
      },
      "execution_count": null,
      "outputs": [
        {
          "output_type": "execute_result",
          "data": {
            "text/plain": [
              "'monitor'"
            ],
            "application/vnd.google.colaboratory.intrinsic+json": {
              "type": "string"
            }
          },
          "metadata": {},
          "execution_count": 23
        }
      ]
    },
    {
      "cell_type": "code",
      "source": [
        "empresas = ['Petro','Itau','Bradesco','Usiminas']\n",
        "\n",
        "for valor in empresas:\n",
        "  print(valor)"
      ],
      "metadata": {
        "colab": {
          "base_uri": "https://localhost:8080/"
        },
        "id": "8OPLnCQ8U_5h",
        "outputId": "0aaf36eb-1c98-452b-84aa-bb13b93ffa11"
      },
      "execution_count": null,
      "outputs": [
        {
          "output_type": "stream",
          "name": "stdout",
          "text": [
            "Petro\n",
            "Itau\n",
            "Bradesco\n",
            "Usiminas\n"
          ]
        }
      ]
    },
    {
      "cell_type": "code",
      "source": [],
      "metadata": {
        "id": "vU_OkJYWVARk"
      },
      "execution_count": null,
      "outputs": []
    },
    {
      "cell_type": "code",
      "source": [
        "print(produto.keys())\n",
        "print(produto.values())\n",
        "print(produto.items())"
      ],
      "metadata": {
        "id": "S0LeL7aDSRK4",
        "colab": {
          "base_uri": "https://localhost:8080/"
        },
        "outputId": "ce213aa8-9e6c-45ff-a823-9dd9009c5f03"
      },
      "execution_count": null,
      "outputs": [
        {
          "output_type": "stream",
          "name": "stdout",
          "text": [
            "dict_keys(['nome', 'valor', 'cor', 'descrição'])\n",
            "dict_values(['monitor', 1200.0, 'preto', '29 polegadas'])\n",
            "dict_items([('nome', 'monitor'), ('valor', 1200.0), ('cor', 'preto'), ('descrição', '29 polegadas')])\n"
          ]
        }
      ]
    },
    {
      "cell_type": "code",
      "source": [
        "for chave, valor in produto.items():\n",
        "  print(chave)\n",
        "  print(valor)\n",
        "  print('----')"
      ],
      "metadata": {
        "id": "rD1tFkwsX3AG",
        "colab": {
          "base_uri": "https://localhost:8080/"
        },
        "outputId": "f4906410-26df-49a1-d164-bd82d686b012"
      },
      "execution_count": null,
      "outputs": [
        {
          "output_type": "stream",
          "name": "stdout",
          "text": [
            "nome\n",
            "monitor\n",
            "----\n",
            "valor\n",
            "1200.0\n",
            "----\n",
            "cor\n",
            "preto\n",
            "----\n",
            "descrição\n",
            "29 polegadas\n",
            "----\n"
          ]
        }
      ]
    },
    {
      "cell_type": "code",
      "source": [
        "produto1 = {'nome':'desktop',\n",
        "           'valor':4800.00,\n",
        "           'cor':'preto',\n",
        "           'descrição':'computador da marca dell'}\n",
        "\n",
        "produto2 = {'nome':'teclado',\n",
        "           'valor':210.00,\n",
        "           'cor':'preto',\n",
        "           'descrição':'teclado mecânico ABNT2'}\n",
        "\n",
        "estoque = [produto,produto1,produto2]\n",
        "estoque"
      ],
      "metadata": {
        "id": "bZI2q5WdRLnw",
        "colab": {
          "base_uri": "https://localhost:8080/"
        },
        "outputId": "559f6184-7ad0-46e2-a757-13b2cd0d64da"
      },
      "execution_count": null,
      "outputs": [
        {
          "output_type": "execute_result",
          "data": {
            "text/plain": [
              "[{'cor': 'preto',\n",
              "  'descrição': '29 polegadas',\n",
              "  'nome': 'monitor',\n",
              "  'valor': 1200.0},\n",
              " {'cor': 'preto',\n",
              "  'descrição': 'computador da marca dell',\n",
              "  'nome': 'desktop',\n",
              "  'valor': 4800.0},\n",
              " {'cor': 'preto',\n",
              "  'descrição': 'teclado mecânico ABNT2',\n",
              "  'nome': 'teclado',\n",
              "  'valor': 210.0}]"
            ]
          },
          "metadata": {},
          "execution_count": 31
        }
      ]
    },
    {
      "cell_type": "markdown",
      "source": [
        "# Exemplos"
      ],
      "metadata": {
        "id": "45wEcfQ9IfZT"
      }
    },
    {
      "cell_type": "markdown",
      "source": [
        "1. Observe o quadro a seguir:\n",
        "\n",
        "![image.png](data:image/png;base64,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)"
      ],
      "metadata": {
        "id": "BnVGqorKI3Mx"
      }
    },
    {
      "cell_type": "code",
      "source": [
        "mercado_a = {'Sabão em Pó':17.80,\n",
        "             'Detergente':2.00,\n",
        "             'Arroz': 17.70,\n",
        "             'Feijão':18.30,\n",
        "             'Banana':2.50,\n",
        "             'Danone':9.75,\n",
        "             'Leite':6.60}\n",
        "\n",
        "mercado_b = {'Sabão em Pó':16,\n",
        "             'Detergente':3.52,\n",
        "             'Arroz': 16.00,\n",
        "             'Feijão':5.50,\n",
        "             'Banana':2.20,\n",
        "             'Danone':8.80,\n",
        "             'Leite':7.00}\n",
        "\n",
        "mercado_c = {'Sabão em Pó':15,\n",
        "             'Detergente':3.50,\n",
        "             'Arroz': 16.00,\n",
        "             'Feijão':5.60,\n",
        "             'Banana':2.30,\n",
        "             'Danone':8.70,\n",
        "             'Leite':5.50}\n",
        "mercado_d = {\n",
        "\n",
        "}\n",
        "mercado_e = {\n",
        "\n",
        "}\n",
        "lista_mercado = [mercado_a, mercado_b, mercado_c, mercado_d, mercado_e]"
      ],
      "metadata": {
        "id": "tKF_F3dpIZsO"
      },
      "execution_count": null,
      "outputs": []
    },
    {
      "cell_type": "code",
      "source": [
        "lista_mercado"
      ],
      "metadata": {
        "id": "UmPpnUmJOlz4",
        "colab": {
          "base_uri": "https://localhost:8080/"
        },
        "outputId": "e9c98278-11fe-4c19-e078-cd66c3181cee"
      },
      "execution_count": null,
      "outputs": [
        {
          "output_type": "execute_result",
          "data": {
            "text/plain": [
              "[{'Arroz': 17.7,\n",
              "  'Banana': 2.5,\n",
              "  'Danone': 9.75,\n",
              "  'Detergente': 2.0,\n",
              "  'Feijão': 18.3,\n",
              "  'Leite': 6.6,\n",
              "  'Sabão em Pó': 17.8},\n",
              " {'Arroz': 16.0,\n",
              "  'Banana': 2.2,\n",
              "  'Danone': 8.8,\n",
              "  'Detergente': 3.52,\n",
              "  'Feijão': 5.5,\n",
              "  'Leite': 7.0,\n",
              "  'Sabão em Pó': 16},\n",
              " {'Arroz': 16.0,\n",
              "  'Banana': 2.3,\n",
              "  'Danone': 8.7,\n",
              "  'Detergente': 3.5,\n",
              "  'Feijão': 5.6,\n",
              "  'Leite': 5.5,\n",
              "  'Sabão em Pó': 15}]"
            ]
          },
          "metadata": {},
          "execution_count": 33
        }
      ]
    },
    {
      "cell_type": "markdown",
      "source": [
        "Qual o valor da soma dos produtos do Mercado A?"
      ],
      "metadata": {
        "id": "Xf5sW1tyNjwK"
      }
    },
    {
      "cell_type": "code",
      "source": [
        "mercado_a.values()"
      ],
      "metadata": {
        "colab": {
          "base_uri": "https://localhost:8080/"
        },
        "id": "W533qLzuXh7a",
        "outputId": "126c4179-9620-4d80-cd25-8115cea7e019"
      },
      "execution_count": null,
      "outputs": [
        {
          "output_type": "execute_result",
          "data": {
            "text/plain": [
              "dict_values([17.8, 2.0, 17.7, 18.3, 2.5, 9.75, 6.6])"
            ]
          },
          "metadata": {},
          "execution_count": 35
        }
      ]
    },
    {
      "cell_type": "code",
      "source": [
        "soma = 0\n",
        "for item in list(mercado_a.values()):\n",
        "  soma = soma + item\n",
        "  print(f'Item: {item}')\n",
        "  print(f'Soma acumulada: {soma}')"
      ],
      "metadata": {
        "id": "q0HMiFHTKdKi",
        "colab": {
          "base_uri": "https://localhost:8080/"
        },
        "outputId": "9eae555a-96b1-4a20-a100-6a7edebaea16"
      },
      "execution_count": null,
      "outputs": [
        {
          "output_type": "stream",
          "name": "stdout",
          "text": [
            "Item: 17.8\n",
            "Soma acumulada: 17.8\n",
            "Item: 2.0\n",
            "Soma acumulada: 19.8\n",
            "Item: 17.7\n",
            "Soma acumulada: 37.5\n",
            "Item: 18.3\n",
            "Soma acumulada: 55.8\n",
            "Item: 2.5\n",
            "Soma acumulada: 58.3\n",
            "Item: 9.75\n",
            "Soma acumulada: 68.05\n",
            "Item: 6.6\n",
            "Soma acumulada: 74.64999999999999\n"
          ]
        }
      ]
    },
    {
      "cell_type": "markdown",
      "source": [
        "Qual o valor da soma dos produtos de todos os Mercados?"
      ],
      "metadata": {
        "id": "_OdhiAi2Nun4"
      }
    },
    {
      "cell_type": "code",
      "source": [
        "for mercado in lista_mercado:\n",
        "  soma = 0\n",
        "  for item in list(mercado.values()):\n",
        "    soma = soma + item\n",
        "    # print(f'Item: {item}')\n",
        "  print(f'Soma acumulada: {soma}')"
      ],
      "metadata": {
        "id": "jPyPGlRLMo31",
        "colab": {
          "base_uri": "https://localhost:8080/"
        },
        "outputId": "148deb4a-7da3-4eb6-8b53-23319d2cfeb4"
      },
      "execution_count": null,
      "outputs": [
        {
          "output_type": "stream",
          "name": "stdout",
          "text": [
            "Soma acumulada: 74.64999999999999\n",
            "Soma acumulada: 59.019999999999996\n",
            "Soma acumulada: 56.599999999999994\n"
          ]
        }
      ]
    },
    {
      "cell_type": "markdown",
      "source": [
        "Qual o valor médio do Sabão em Pó?"
      ],
      "metadata": {
        "id": "QQBqaNHjPFlY"
      }
    },
    {
      "cell_type": "code",
      "source": [
        "soma = 0.0\n",
        "for mercado in lista_mercado:\n",
        "  print(mercado['Sabão em Pó'])\n",
        "  soma = soma + mercado['Sabão em Pó']\n",
        "media = soma/len(lista_mercado)\n",
        "print(media)"
      ],
      "metadata": {
        "id": "n1pwPOlMKP5U",
        "colab": {
          "base_uri": "https://localhost:8080/"
        },
        "outputId": "0d94075f-296d-4932-b963-a9a4b50ebaca"
      },
      "execution_count": null,
      "outputs": [
        {
          "output_type": "stream",
          "name": "stdout",
          "text": [
            "17.8\n",
            "16\n",
            "15\n",
            "16.266666666666666\n"
          ]
        }
      ]
    },
    {
      "cell_type": "markdown",
      "source": [
        "# Exercícios"
      ],
      "metadata": {
        "id": "EKiCT4dKS3yQ"
      }
    },
    {
      "cell_type": "markdown",
      "source": [
        "1. Crie os dicionários para os mercados D e E do exemplo anterior e realize a soma dos produtos de cada mercado individualmente e dentro de uma estrutura de repetição **For**.\n",
        "\n",
        "   **Desafio**: identifique qual item de menor valor dentre todos os mercados"
      ],
      "metadata": {
        "id": "AH3gWBIMS9qv"
      }
    },
    {
      "cell_type": "code",
      "source": [],
      "metadata": {
        "id": "zPBCKrc0PV7l"
      },
      "execution_count": null,
      "outputs": []
    }
  ]
}